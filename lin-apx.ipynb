{
 "cells": [
  {
   "cell_type": "code",
   "execution_count": 1,
   "metadata": {},
   "outputs": [],
   "source": [
    "import json\n",
    "import torch\n",
    "\n",
    "from src.datasets import get_dataset\n",
    "from src.modules import get_model, get_loss_fn\n",
    "from src.modules.dropouts import LinearApproxDropout"
   ]
  },
  {
   "cell_type": "code",
   "execution_count": 2,
   "metadata": {},
   "outputs": [
    {
     "name": "stdout",
     "output_type": "stream",
     "text": [
      "Files already downloaded and verified\n",
      "Files already downloaded and verified\n"
     ]
    },
    {
     "data": {
      "text/plain": [
       "<All keys matched successfully>"
      ]
     },
     "execution_count": 2,
     "metadata": {},
     "output_type": "execute_result"
    }
   ],
   "source": [
    "path = \"outputs/schemes/lin-apx_all_0\"\n",
    "with open(f\"{path}/config.json\") as f:\n",
    "    config = json.load(f)\n",
    "\n",
    "dataset = get_dataset(config[\"dataset\"])\n",
    "model = get_model(config[\"model\"], dataset.input_shape, dataset.num_classes)\n",
    "loss_fn = get_loss_fn(config[\"fit\"][\"loss_fn\"])\n",
    "\n",
    "state = torch.load(f\"{path}/checkpoint-50.pt\")\n",
    "model.load_state_dict(state[\"model\"])\n",
    "model.train()\n",
    "\n",
    "for inputs, targets in dataset.train_loader:\n",
    "    inputs = inputs[:20]\n",
    "    targets = targets[:20]"
   ]
  },
  {
   "cell_type": "code",
   "execution_count": 3,
   "metadata": {},
   "outputs": [
    {
     "data": {
      "text/plain": [
       "tensor([0.1177, 0.4064, 0.1463, 0.1577, 0.1389, 0.3176, 0.1455, 0.0474, 0.1134,\n",
       "        0.1207, 0.1704, 0.0755, 0.2161, 0.0706, 0.1244, 0.2616, 0.1149, 0.1964,\n",
       "        0.0988, 0.0893], grad_fn=<AddBackward0>)"
      ]
     },
     "execution_count": 3,
     "metadata": {},
     "output_type": "execute_result"
    }
   ],
   "source": [
    "outputs = model(inputs)\n",
    "model.reg_loss()"
   ]
  },
  {
   "cell_type": "code",
   "execution_count": 4,
   "metadata": {},
   "outputs": [
    {
     "name": "stdout",
     "output_type": "stream",
     "text": [
      "tensor([0.1177, 0.4064, 0.1463, 0.1577, 0.1389, 0.3176, 0.1455, 0.0474, 0.1134,\n",
      "        0.1207, 0.1704, 0.0755, 0.2161, 0.0706, 0.1244, 0.2616, 0.1149, 0.1964,\n",
      "        0.0988, 0.0893], grad_fn=<AddBackward0>)\n"
     ]
    }
   ],
   "source": [
    "reg_loss = 0\n",
    "modules = list(model.children())\n",
    "for i, m in enumerate(modules):\n",
    "    if isinstance(m, LinearApproxDropout) and m.std > 0:\n",
    "        uppers = torch.nn.Sequential(*modules[i:])\n",
    "        hess = torch.autograd.functional.hessian(lambda x: loss_fn(uppers(x), targets).sum(), m.state)\n",
    "        reg_loss = reg_loss + torch.einsum(\"bibi,bi->b\", hess, m.state.square()) * (0.5 ** 2 / 2)\n",
    "print(reg_loss)"
   ]
  }
 ],
 "metadata": {
  "kernelspec": {
   "display_name": "Python 3.8.2 64-bit",
   "language": "python",
   "name": "python3"
  },
  "language_info": {
   "codemirror_mode": {
    "name": "ipython",
    "version": 3
   },
   "file_extension": ".py",
   "mimetype": "text/x-python",
   "name": "python",
   "nbconvert_exporter": "python",
   "pygments_lexer": "ipython3",
   "version": "3.8.2"
  },
  "orig_nbformat": 4,
  "vscode": {
   "interpreter": {
    "hash": "31f2aee4e71d21fbe5cf8b01ff0e069b9275f58929596ceb00d14d90e3e16cd6"
   }
  }
 },
 "nbformat": 4,
 "nbformat_minor": 2
}
