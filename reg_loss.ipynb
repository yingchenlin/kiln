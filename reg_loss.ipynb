{
 "cells": [
  {
   "cell_type": "code",
   "execution_count": null,
   "metadata": {},
   "outputs": [],
   "source": [
    "import json\n",
    "import torch\n",
    "from tqdm import tqdm\n",
    "\n",
    "from datasets import get_dataset\n",
    "from models import get_model\n",
    "from tools import get_loss_fn\n",
    "\n",
    "import matplotlib as mpl\n",
    "import matplotlib.pyplot as plt"
   ]
  },
  {
   "cell_type": "code",
   "execution_count": null,
   "metadata": {},
   "outputs": [],
   "source": [
    "def load(tag):\n",
    "    root = f\"outputs/{tag}\"\n",
    "    with open(f\"{root}/config.json\") as f:\n",
    "        config = json.load(f)\n",
    "\n",
    "    dataset = get_dataset(config[\"dataset\"])\n",
    "    loss_fn = get_loss_fn(config[\"fit\"][\"loss_fn\"])\n",
    "    sto_model = get_model(dataset, config[\"model\"])\n",
    "    config[\"model\"][\"dropout\"][\"name\"] = \"reg\"\n",
    "    reg_model = get_model(dataset, config[\"model\"])\n",
    "\n",
    "    state = torch.load(f\"{root}/checkpoint.pt\")\n",
    "    sto_model.load_state_dict(state[\"model\"])\n",
    "    reg_model.load_state_dict(state[\"model\"])\n",
    "\n",
    "    sto_model.train()\n",
    "    reg_model.train()\n",
    "\n",
    "    det_losses = []\n",
    "    reg_losses = []\n",
    "    sto_losses = []\n",
    "\n",
    "    with torch.no_grad():\n",
    "        progress = tqdm(dataset.train_loader, leave=False)\n",
    "        for input, target in progress:\n",
    "\n",
    "            output = reg_model(input)\n",
    "            det_loss = loss_fn(output, target)\n",
    "            reg_loss = det_loss + \\\n",
    "                reg_model.reg_loss(output, target)\n",
    "\n",
    "            sto_loss = torch.stack([\n",
    "                loss_fn(sto_model(input), target)\n",
    "                for _ in range(100)\n",
    "            ]).mean(0)\n",
    "\n",
    "            det_losses.append(det_loss)\n",
    "            reg_losses.append(reg_loss)\n",
    "            sto_losses.append(sto_loss)\n",
    "\n",
    "            diffs = torch.cat(sto_losses) - torch.cat(reg_losses)\n",
    "            progress.set_postfix({\n",
    "                \"mean\": f\"{diffs.mean().item():.4f}\",\n",
    "                \"std\": f\"{diffs.std().item():.4f}\",\n",
    "            })\n",
    "        \n",
    "        det_losses = torch.cat(det_losses).numpy()\n",
    "        reg_losses = torch.cat(reg_losses).numpy()\n",
    "        sto_losses = torch.cat(sto_losses).numpy()\n",
    "\n",
    "    return det_losses, reg_losses, sto_losses"
   ]
  },
  {
   "cell_type": "code",
   "execution_count": null,
   "metadata": {},
   "outputs": [],
   "source": [
    "det_losses, reg_losses, sto_losses = load(\"cifar-10_d200_norm_w_s1o1_l1_1\")"
   ]
  },
  {
   "cell_type": "code",
   "execution_count": null,
   "metadata": {},
   "outputs": [],
   "source": [
    "r = 0.5\n",
    "_, ax = plt.subplots(figsize=(4, 4), dpi=100, facecolor=\"w\")\n",
    "ax.hist2d(\n",
    "    sto_losses - det_losses, reg_losses - det_losses,\n",
    "    range=((-r, r), (-r, r)), bins=(100, 100),\n",
    "    norm=mpl.colors.LogNorm())\n",
    "None"
   ]
  },
  {
   "cell_type": "code",
   "execution_count": null,
   "metadata": {},
   "outputs": [],
   "source": [
    "def hess(tag):\n",
    "\n",
    "    root = f\"outputs/{tag}\"\n",
    "    with open(f\"{root}/config.json\") as f:\n",
    "        config = json.load(f)\n",
    "    config[\"model\"][\"dropout\"][\"name\"] = \"reg\"\n",
    "\n",
    "    dataset = get_dataset(config[\"dataset\"])\n",
    "    loss_fn = get_loss_fn(config[\"fit\"][\"loss_fn\"])\n",
    "    model = get_model(dataset, config[\"model\"])\n",
    "\n",
    "    state = torch.load(f\"{root}/checkpoint.pt\")\n",
    "    model.load_state_dict(state[\"model\"])\n",
    "\n",
    "    print(model)\n",
    "\n",
    "    model.eval()\n",
    "    with torch.no_grad():\n",
    "        input, target = next(iter(dataset.train_loader))\n",
    "        output = model(input)\n",
    "        batch = torch.arange(input.shape[0])\n",
    "\n",
    "        modules = list(model.modules())\n",
    "        ctx = modules[-2]._init(output)\n",
    "        for i, m in reversed(list(enumerate(modules))):\n",
    "            if isinstance(m, Regularization):\n",
    "\n",
    "                input_ = m(m.state)\n",
    "                model_ = torch.nn.Sequential(*modules[i+1:])\n",
    "                expect = torch.autograd.functional.hessian(\n",
    "                    lambda x: loss_fn(model_(x), target).sum(), input_)\n",
    "                expect = expect[batch, :, batch, :]\n",
    "\n",
    "                hess, jacob = ctx\n",
    "                actual = torch.einsum(\n",
    "                    \"bij,bik,bjl->bkl\", hess, jacob, jacob)\n",
    "                print((expect - actual).norm())\n",
    "\n",
    "                ctx = m._next(ctx)"
   ]
  }
 ],
 "metadata": {
  "interpreter": {
   "hash": "31f2aee4e71d21fbe5cf8b01ff0e069b9275f58929596ceb00d14d90e3e16cd6"
  },
  "kernelspec": {
   "display_name": "Python 3.8.9 64-bit",
   "language": "python",
   "name": "python3"
  },
  "language_info": {
   "codemirror_mode": {
    "name": "ipython",
    "version": 3
   },
   "file_extension": ".py",
   "mimetype": "text/x-python",
   "name": "python",
   "nbconvert_exporter": "python",
   "pygments_lexer": "ipython3",
   "version": "3.8.2"
  },
  "orig_nbformat": 4
 },
 "nbformat": 4,
 "nbformat_minor": 2
}
